{
 "cells": [
  {
   "cell_type": "code",
   "execution_count": 18,
   "metadata": {
    "tags": []
   },
   "outputs": [
    {
     "output_type": "stream",
     "name": "stdout",
     "text": "The autoreload extension is already loaded. To reload it, use:\n  %reload_ext autoreload\n"
    }
   ],
   "source": [
    "import numpy as np\n",
    "\n",
    "import torch\n",
    "import torch.optim as optim\n",
    "from torch.utils.data import DataLoader\n",
    "\n",
    "from torchvision import datasets\n",
    "import torchvision.transforms as transforms\n",
    "\n",
    "from models.cnn import CNNModel\n",
    "from models.fc import FCModel\n",
    "from utils.train import train \n",
    "from utils.test import test\n",
    "\n",
    "%load_ext autoreload\n",
    "%autoreload 2"
   ]
  },
  {
   "cell_type": "markdown",
   "metadata": {},
   "source": [
    "## Prepare Train and Test DataLoader"
   ]
  },
  {
   "cell_type": "code",
   "execution_count": 19,
   "metadata": {
    "tags": []
   },
   "outputs": [
    {
     "output_type": "stream",
     "name": "stdout",
     "text": "Files already downloaded and verified\nFiles already downloaded and verified\n"
    }
   ],
   "source": [
    "# Prepare train and test data\n",
    "batch_size = 6\n",
    "\n",
    "transform = transforms.Compose([\n",
    "    transforms.ToTensor(),\n",
    "    transforms.Normalize((0.485, 0.456, 0.406), (0.5, 0.5, 0.5))\n",
    "])\n",
    "\n",
    "trainset = datasets.CIFAR10(root='./data', train=True,\n",
    "                                        download=True, transform=transform)\n",
    "trainloader = DataLoader(trainset, batch_size=batch_size,\n",
    "                                          shuffle=True, num_workers=2)\n",
    "\n",
    "testset = datasets.CIFAR10(root='./data', train=False,\n",
    "                                       download=True, transform=transform)\n",
    "testloader = DataLoader(testset, batch_size=batch_size,\n",
    "                                         shuffle=False, num_workers=2)"
   ]
  },
  {
   "cell_type": "markdown",
   "metadata": {},
   "source": [
    "## FC Model (Baseline Model)"
   ]
  },
  {
   "cell_type": "code",
   "execution_count": 20,
   "metadata": {
    "tags": []
   },
   "outputs": [
    {
     "output_type": "stream",
     "name": "stdout",
     "text": "Start training!\nEpoch: 1 \t Training Loss:1.680359\nEpoch: 2 \t Training Loss:1.509640\nEpoch: 3 \t Training Loss:1.439319\nEpoch: 4 \t Training Loss:1.385626\nEpoch: 5 \t Training Loss:1.341938\nEpoch: 6 \t Training Loss:1.305226\nEpoch: 7 \t Training Loss:1.267772\nEpoch: 8 \t Training Loss:1.232571\nEpoch: 9 \t Training Loss:1.201848\nEpoch: 10 \t Training Loss:1.168903\nFinish training!\nTotal Accuracy: 51 %\nAccuracy of plane : 59.820090 %\nAccuracy of   car : 56.801196 %\nAccuracy of  bird : 43.511450 %\nAccuracy of   cat : 22.385862 %\nAccuracy of  deer : 48.372781 %\nAccuracy of   dog : 57.846154 %\nAccuracy of  frog : 41.779789 %\nAccuracy of horse : 59.097525 %\nAccuracy of  ship : 66.870229 %\nAccuracy of truck : 58.470765 %\n"
    }
   ],
   "source": [
    "fc_model = FCModel()\n",
    "train(fc_model, trainloader)\n",
    "test(fc_model, testloader)"
   ]
  },
  {
   "cell_type": "markdown",
   "metadata": {},
   "source": [
    "## CNN Model"
   ]
  },
  {
   "cell_type": "code",
   "execution_count": 22,
   "metadata": {
    "tags": []
   },
   "outputs": [
    {
     "output_type": "stream",
     "name": "stdout",
     "text": "Start training!\nEpoch: 1 \t Training Loss:1.576466\nEpoch: 2 \t Training Loss:1.156584\nEpoch: 3 \t Training Loss:0.965314\nEpoch: 4 \t Training Loss:0.827768\nEpoch: 5 \t Training Loss:0.710296\nEpoch: 6 \t Training Loss:0.598831\nEpoch: 7 \t Training Loss:0.497439\nEpoch: 8 \t Training Loss:0.400731\nEpoch: 9 \t Training Loss:0.319060\nEpoch: 10 \t Training Loss:0.256234\nFinish training!\nTotal Accuracy: 70 %\nAccuracy of plane : 78.410795 %\nAccuracy of   car : 83.557549 %\nAccuracy of  bird : 54.656489 %\nAccuracy of   cat : 58.468336 %\nAccuracy of  deer : 65.236686 %\nAccuracy of   dog : 54.307692 %\nAccuracy of  frog : 73.906486 %\nAccuracy of horse : 77.583697 %\nAccuracy of  ship : 73.435115 %\nAccuracy of truck : 81.409295 %\n"
    }
   ],
   "source": [
    "cnn_model = CNNModel()\n",
    "train(cnn_model, trainloader)\n",
    "test(cnn_model, testloader)"
   ]
  },
  {
   "cell_type": "code",
   "execution_count": null,
   "metadata": {},
   "outputs": [],
   "source": []
  }
 ],
 "metadata": {
  "language_info": {
   "codemirror_mode": {
    "name": "ipython",
    "version": 3
   },
   "file_extension": ".py",
   "mimetype": "text/x-python",
   "name": "python",
   "nbconvert_exporter": "python",
   "pygments_lexer": "ipython3",
   "version": "3.7.3-final"
  },
  "orig_nbformat": 2,
  "kernelspec": {
   "name": "python37364bitpytorchconda1545031e98af432db1e61eacbd344185",
   "display_name": "Python 3.7.3 64-bit ('pytorch': conda)"
  }
 },
 "nbformat": 4,
 "nbformat_minor": 2
}