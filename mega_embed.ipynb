{
 "cells": [
  {
   "cell_type": "code",
   "execution_count": null,
   "metadata": {},
   "outputs": [],
   "source": [
    "%matplotlib inline\n",
    "import numpy as np\n",
    "import matplotlib.pyplot as plt\n",
    "from mpl_toolkits.mplot3d import Axes3D\n",
    "#import keras.utils.to_categorical\n",
    "#import keras_utils\n",
    "from keras.datasets import cifar10\n",
    "from megaman.geometry import Geometry"
   ]
  },
  {
   "cell_type": "code",
   "execution_count": null,
   "metadata": {},
   "outputs": [],
   "source": [
    "# Load dataset\n",
    "(X_train, y_train), (x_test, y_test) = cifar10.load_data()"
   ]
  },
  {
   "cell_type": "code",
   "execution_count": null,
   "metadata": {},
   "outputs": [],
   "source": [
    "# Shuffle dataset\n",
    "from sklearn.utils import shuffle\n",
    "X_train, y_train = shuffle(X_train, y_train)"
   ]
  },
  {
   "cell_type": "code",
   "execution_count": null,
   "metadata": {},
   "outputs": [],
   "source": [
    "# 10 Classes in CIFAR-10\n",
    "label_dict = {\n",
    " 0: 'airplane',\n",
    " 1: 'automobile',\n",
    " 2: 'bird',\n",
    " 3: 'cat',\n",
    " 4: 'deer',\n",
    " 5: 'dog',\n",
    " 6: 'frog',\n",
    " 7: 'horse',\n",
    " 8: 'ship',\n",
    " 9: 'truck',\n",
    "}"
   ]
  },
  {
   "cell_type": "code",
   "execution_count": null,
   "metadata": {
    "scrolled": true
   },
   "outputs": [],
   "source": [
    "#Test plot of images\n",
    "plt.figure(figsize=[10,5])\n",
    "for i in range(6):\n",
    "    plt.subplot(1,6,i+1)\n",
    "    curr_img = np.reshape(X_train[i], (32,32,3))\n",
    "    plt.imshow(curr_img)\n",
    "    print(plt.title(\"Label: \" + str(label_dict[y_train[i][0]])))"
   ]
  },
  {
   "cell_type": "code",
   "execution_count": null,
   "metadata": {},
   "outputs": [],
   "source": [
    "def plot_embedding(X, y, title=None):\n",
    "    \"\"\"\n",
    "    In: Data batch X, labels y, title of plot\n",
    "    Plots the first 2 dimensions of embedding using the number of the 10 classes\n",
    "    to show clustering\n",
    "    \"\"\"\n",
    "    x_min, x_max = np.min(X, 0), np.max(X, 0)\n",
    "    X = (X - x_min) / (x_max - x_min)\n",
    "\n",
    "    plt.figure(figsize=(18, 12))\n",
    "    ax = plt.subplot(111)\n",
    "    for i in range(X.shape[0]):\n",
    "        plt.text(X[i, 0], X[i, 1], str(y[i]),\n",
    "                 color=plt.cm.Set1(y[i] / 10.),\n",
    "                 fontdict={'weight': 'bold', 'size': 22})\n",
    "\n",
    "    plt.xticks([]), plt.yticks([])\n",
    "    plt.figtext(.5,.9, str(title), fontsize=30, ha='center')\n",
    "    #if title is not None:\n",
    "     #   plt.title(title)\n",
    "        \n",
    "    plt.savefig(str(title) + '.png' , format = 'png') "
   ]
  },
  {
   "cell_type": "code",
   "execution_count": null,
   "metadata": {},
   "outputs": [],
   "source": [
    "# Reshape training data to 2d\n",
    "X_train = X_train.reshape((50000,-1))"
   ]
  },
  {
   "cell_type": "code",
   "execution_count": null,
   "metadata": {},
   "outputs": [],
   "source": [
    "#Setup batchsize\n",
    "batchsize = 8192\n",
    "X_train_batch = X_train[:batchsize, :]\n",
    "y_train_batch = y_train[:batchsize]"
   ]
  },
  {
   "cell_type": "code",
   "execution_count": null,
   "metadata": {},
   "outputs": [],
   "source": [
    "X_train_batch.shape"
   ]
  },
  {
   "cell_type": "code",
   "execution_count": null,
   "metadata": {},
   "outputs": [],
   "source": [
    "# Normalize data, StandardScaler does not bring good results\n",
    "from sklearn import preprocessing\n",
    "X_train_batch = preprocessing.normalize(X_train_batch)"
   ]
  },
  {
   "cell_type": "code",
   "execution_count": null,
   "metadata": {},
   "outputs": [],
   "source": [
    "# Resize labels to 1D\n",
    "y_train_batch = y_train_batch.reshape((batchsize,))"
   ]
  },
  {
   "cell_type": "code",
   "execution_count": null,
   "metadata": {},
   "outputs": [],
   "source": [
    "# Simple example from manifold_intro tutorial\n",
    "from megaman.embedding import LTSA\n",
    "from megaman.geometry import Geometry\n",
    "\n",
    "geom = Geometry(adjacency_kwds=dict(n_neighbors=64))\n",
    "model = LTSA(geom=geom, eigen_solver='dense', random_state=64)\n",
    "\n",
    "X_ltsa = model.fit_transform(X_train_batch)\n",
    "print(X_ltsa.shape)\n",
    "fig, ax = plt.subplots(figsize=(8, 6))\n",
    "ax.scatter(X_ltsa[:, 1], X_ltsa[:, 0], s=20, lw=0.1)"
   ]
  },
  {
   "cell_type": "code",
   "execution_count": null,
   "metadata": {},
   "outputs": [],
   "source": [
    "plot_embedding(X_ltsa, y_train_batch, 'simple_model')"
   ]
  },
  {
   "cell_type": "markdown",
   "metadata": {},
   "source": [
    "# # Radius Estimation"
   ]
  },
  {
   "cell_type": "code",
   "execution_count": null,
   "metadata": {},
   "outputs": [],
   "source": [
    "#Set rmin and rmax as the intervall to search the optimal radius\n",
    "\n",
    "rmax=2\n",
    "rmin=0.1\n",
    "# Calculate Adjacency matrix of Data batch\n",
    "geom = Geometry(adjacency_method='brute',adjacency_kwds=dict(radius=rmax))\n",
    "geom.set_data_matrix(X_train_batch)\n",
    "dist = geom.compute_adjacency_matrix()"
   ]
  },
  {
   "cell_type": "code",
   "execution_count": null,
   "metadata": {},
   "outputs": [],
   "source": [
    "from megaman.utils.estimate_radius import run_estimate_radius\n",
    "\n",
    "# subsample by 10.\n",
    "sample = np.arange(0,X_train_batch.shape[0],10)\n",
    "\n",
    "# Run 1D embedding radius search\n",
    "distorion_vs_rad_dim1 = run_estimate_radius(\n",
    "    X_train_batch, dist, sample=sample, d=1, rmin=rmin, rmax=rmax,\n",
    "    ntry=10, run_parallel=True, search_space='logspace')\n",
    "\n",
    "# Run 2D embedding radius search\n",
    "distorion_vs_rad_dim2 = run_estimate_radius(\n",
    "    X_train_batch, dist, sample=sample, d=2, rmin=rmin, rmax=rmax,\n",
    "    ntry=10, run_parallel=True, search_space='logspace')\n",
    "\n",
    "# Get radius with smallest distortion (optimal)and compare 1D against 2D\n",
    "distorsion_dim1 = distorion_vs_rad_dim1[:,1].astype('float64')\n",
    "distorsion_dim2 = distorion_vs_rad_dim2[:,1].astype('float64')\n",
    "rad_search_space = distorion_vs_rad_dim1[:,0].astype('float64')\n",
    "\n",
    "argmin_d1 = np.argmin(distorsion_dim1)\n",
    "argmin_d2 = np.argmin(distorsion_dim2)\n",
    "est_rad_dim1 = rad_search_space[argmin_d1]\n",
    "est_rad_dim2 = rad_search_space[argmin_d2]\n",
    "\n",
    "print ('Estimated radius with d=2 is: {:.4f}'.format(est_rad_dim1))\n",
    "print ('Estimated radius with d=1 is: {:.4f}'.format(est_rad_dim2))"
   ]
  },
  {
   "cell_type": "code",
   "execution_count": null,
   "metadata": {},
   "outputs": [],
   "source": [
    "# Plot results\n",
    "import plotly\n",
    "plotly.offline.init_notebook_mode(connected=True)\n",
    "\n",
    "from IPython.core.display import display, HTML\n",
    "display(HTML(\n",
    "    '<script>'\n",
    "        'var waitForPlotly = setInterval( function() {'\n",
    "            'if( typeof(window.Plotly) !== \"undefined\" ){'\n",
    "                'MathJax.Hub.Config({ SVG: { font: \"STIX-Web\" }, displayAlign: \"center\" });'\n",
    "                'MathJax.Hub.Queue([\"setRenderer\", MathJax.Hub, \"SVG\"]);'\n",
    "                'clearInterval(waitForPlotly);'\n",
    "            '}}, 250 );'\n",
    "    '</script>'\n",
    "))"
   ]
  },
  {
   "cell_type": "code",
   "execution_count": null,
   "metadata": {},
   "outputs": [],
   "source": [
    "from megaman.plotter.scatter_3d import scatter_plot3d_plotly\n",
    "import plotly.graph_objs as go\n",
    "from plotly.offline import iplot\n",
    "\n",
    "\n",
    "t_distorsion = [go.Scatter(x=rad_search_space, y=distorsion_dim1, name='Dimension = 1'), \n",
    "                go.Scatter(x=rad_search_space, y=distorsion_dim2, name='Dimension = 2')]\n",
    "\n",
    "l_distorsion = go.Layout(\n",
    "    title='Distorsions versus radii',\n",
    "    xaxis=dict(\n",
    "        title='$\\\\text{Radius } r$',\n",
    "        type='log',\n",
    "        autorange=True\n",
    "    ),\n",
    "    yaxis=dict(\n",
    "        title='Distorsion',\n",
    "        type='log',\n",
    "        autorange=True\n",
    "    ),\n",
    "    annotations=[\n",
    "        dict(\n",
    "            x=np.log10(est_rad_dim1),\n",
    "            y=np.log10(distorsion_dim1[argmin_d1]),\n",
    "            xref='x',\n",
    "            yref='y',\n",
    "            text='$\\\\hat{r}_{d=1}$',\n",
    "            font = dict(size = 30),\n",
    "            showarrow=True,\n",
    "            arrowhead=7,\n",
    "            ax=0,\n",
    "            ay=-30\n",
    "        ),\n",
    "        dict(\n",
    "            x=np.log10(est_rad_dim2),\n",
    "            y=np.log10(distorsion_dim2[argmin_d2]),\n",
    "            xref='x',\n",
    "            yref='y',\n",
    "            text='$\\\\hat{r}_{d=2}$',\n",
    "            font = dict(size = 30),\n",
    "            showarrow=True,\n",
    "            arrowhead=7,\n",
    "            ax=0,\n",
    "            ay=-30\n",
    "        )\n",
    "    ]\n",
    ")\n",
    "f_distorsion = go.Figure(data=t_distorsion,layout=l_distorsion)\n",
    "iplot(f_distorsion)"
   ]
  },
  {
   "cell_type": "markdown",
   "metadata": {},
   "source": [
    "## Run Embedding"
   ]
  },
  {
   "cell_type": "code",
   "execution_count": null,
   "metadata": {},
   "outputs": [],
   "source": [
    "# Initialize Geometry object for embedding\n",
    "geom = Geometry()\n",
    "geom.set_data_matrix(X_train_batch)"
   ]
  },
  {
   "cell_type": "code",
   "execution_count": null,
   "metadata": {},
   "outputs": [],
   "source": [
    "# Radius Backtesting. In general, small radius but large enough to result in a fully connected graph\n",
    "# (or at least a single large enough connected component) [taken from the megaman tutorial]\n",
    "from scipy.sparse.csgraph import connected_components\n",
    "rad1 = 1.2\n",
    "# compute an adjacency matrix with a radius\n",
    "geom.adjacency_kwds = {'radius':rad1}\n",
    "adjacency_matrix = geom.compute_adjacency_matrix()\n",
    "# compute the corresponding affinity matrix\n",
    "geom.affinity_kwds = {'radius':rad1}\n",
    "affinity_matrix = geom.compute_affinity_matrix({'radius':rad1})\n",
    "(number_connected_components, labels) = connected_components(affinity_matrix)\n",
    "print(number_connected_components)"
   ]
  },
  {
   "cell_type": "code",
   "execution_count": null,
   "metadata": {},
   "outputs": [],
   "source": [
    "# Define parameters for geometry object\n",
    "radius = 1.2\n",
    "adjacency_method = 'cyflann'\n",
    "adjacency_kwds = {'radius':radius}\n",
    "affinity_method = 'gaussian'\n",
    "affinity_kwds = {'radius':radius}\n",
    "laplacian_method = 'symmetricnormalized'\n",
    "laplacian_kwds = {'scaling_epps':radius}\n",
    "\n",
    "geom  = {'adjacency_method':adjacency_method, 'adjacency_kwds':adjacency_kwds,\n",
    "         'affinity_method':affinity_method, 'affinity_kwds':affinity_kwds,\n",
    "         'laplacian_method':laplacian_method, 'laplacian_kwds':laplacian_kwds}\n",
    "\n",
    "# Setup geometry object\n",
    "geom = Geometry(adjacency_method=adjacency_method, adjacency_kwds=adjacency_kwds,\n",
    "                affinity_method=affinity_method, affinity_kwds=affinity_kwds,\n",
    "                laplacian_method=laplacian_method, laplacian_kwds=laplacian_kwds)\n",
    "geom.set_data_matrix(X_train_batch)"
   ]
  },
  {
   "cell_type": "code",
   "execution_count": null,
   "metadata": {},
   "outputs": [],
   "source": [
    "# Finally run embeddings\n",
    "from megaman.embedding import (Isomap, LocallyLinearEmbedding, LTSA, SpectralEmbedding)\n",
    "# 2D embeddings\n",
    "n_components = 2"
   ]
  },
  {
   "cell_type": "code",
   "execution_count": null,
   "metadata": {},
   "outputs": [],
   "source": [
    "spectral = SpectralEmbedding(n_components=3, eigen_solver='amg',geom=geom, drop_first=False) # use 3 for spectral\n",
    "embed_spectral = spectral.fit_transform(X_train_batch)\n",
    "\n",
    "ltsa = LTSA(n_components=n_components,eigen_solver='dense',geom=geom)\n",
    "embed_ltsa = ltsa.fit_transform(X_train_batch)\n",
    "\n",
    "lle = LocallyLinearEmbedding(n_components=n_components, eigen_solver='dense',geom=geom)\n",
    "embed_lle = lle.fit_transform(X_train_batch)\n",
    "\n",
    "isomap = Isomap(n_components=n_components, eigen_solver='dense',geom=geom)\n",
    "embed_isomap = isomap.fit_transform(X_train_batch)"
   ]
  },
  {
   "cell_type": "code",
   "execution_count": null,
   "metadata": {},
   "outputs": [],
   "source": [
    "# Small plot\n",
    "embed_spectral = embed_spectral[:, [0, 2]] * 50.0\n",
    "tmp = embed_spectral[:, 1].copy()\n",
    "embed_spectral[:,1] = embed_spectral[:,0].copy()\n",
    "embed_spectral[:,0] = tmp.copy()\n",
    "tmp = None\n",
    "\n",
    "fig, axes = plt.subplots(nrows=2, ncols=2)\n",
    "axes[0, 0].scatter(embed_ltsa[:, 0], embed_ltsa[:, 1], s=1, c=y_train_batch)\n",
    "axes[0, 0].set_title('LTSA')\n",
    "axes[0, 1].scatter(embed_lle[:, 0], embed_lle[:, 1], s=1, c=y_train_batch)\n",
    "axes[0, 1].set_title('LLE')\n",
    "axes[1, 0].scatter(embed_isomap[:, 0], embed_isomap[:, 1], s=1, c=y_train_batch)\n",
    "axes[1, 0].set_title('Isomap')\n",
    "axes[1, 1].scatter(embed_spectral[:, 0], embed_spectral[:, 1], s=1, c=y_train_batch)\n",
    "axes[1, 1].set_title('Spectral Embedding')\n",
    "plt.show()"
   ]
  },
  {
   "cell_type": "markdown",
   "metadata": {},
   "source": [
    "## Plot final embeddings"
   ]
  },
  {
   "cell_type": "code",
   "execution_count": null,
   "metadata": {},
   "outputs": [],
   "source": [
    "plot_embedding(embed_ltsa, y_train_batch, 'Megaman LTSA Embedding')"
   ]
  },
  {
   "cell_type": "code",
   "execution_count": null,
   "metadata": {},
   "outputs": [],
   "source": [
    "plot_embedding(embed_lle, y_train_batch, 'Megaman LLE Embedding')"
   ]
  },
  {
   "cell_type": "code",
   "execution_count": null,
   "metadata": {},
   "outputs": [],
   "source": [
    "plot_embedding(embed_isomap, y_train_batch, 'Megaman Isomap Embedding')"
   ]
  },
  {
   "cell_type": "code",
   "execution_count": null,
   "metadata": {},
   "outputs": [],
   "source": [
    "plot_embedding(embed_spectral, y_train_batch, 'Megaman Spectral Embedding')"
   ]
  },
  {
   "cell_type": "markdown",
   "metadata": {},
   "source": [
    "## Determine Accuracy of embedding using KNN Classifier"
   ]
  },
  {
   "cell_type": "code",
   "execution_count": null,
   "metadata": {},
   "outputs": [],
   "source": [
    "from sklearn.neighbors import KNeighborsClassifier\n",
    "from sklearn import metrics\n",
    "# Spectral Embedding\n",
    "knn = KNeighborsClassifier(n_neighbors=4)\n",
    "# Train the model using the training sets\n",
    "knn.fit(embed_spectral, y_train_batch)\n",
    "\n",
    "#Predict Output\n",
    "predicted = knn.predict(embed_spectral) \n",
    "\n",
    "# Model Accuracy\n",
    "print(\"Accuracy:\",metrics.accuracy_score(y_train_batch, predicted))"
   ]
  },
  {
   "cell_type": "code",
   "execution_count": null,
   "metadata": {},
   "outputs": [],
   "source": [
    "# LTSA Embedding\n",
    "knn = KNeighborsClassifier(n_neighbors=4)\n",
    "# Train the model using the training sets\n",
    "knn.fit(embed_ltsa, y_train_batch)\n",
    "\n",
    "#Predict Output\n",
    "predicted = knn.predict(embed_ltsa) \n",
    "\n",
    "# Model Accuracy\n",
    "print(\"Accuracy:\",metrics.accuracy_score(y_train_batch, predicted))"
   ]
  },
  {
   "cell_type": "code",
   "execution_count": null,
   "metadata": {},
   "outputs": [],
   "source": [
    "# LLE Embedding\n",
    "knn = KNeighborsClassifier(n_neighbors=4)\n",
    "# Train the model using the training sets\n",
    "knn.fit(embed_lle, y_train_batch)\n",
    "\n",
    "#Predict Output\n",
    "predicted = knn.predict(embed_lle) \n",
    "\n",
    "# Model Accuracy\n",
    "print(\"Accuracy:\",metrics.accuracy_score(y_train_batch, predicted))"
   ]
  },
  {
   "cell_type": "code",
   "execution_count": null,
   "metadata": {},
   "outputs": [],
   "source": [
    "# LLE Embedding\n",
    "knn = KNeighborsClassifier(n_neighbors=4)\n",
    "# Train the model using the training sets\n",
    "knn.fit(embed_isomap, y_train_batch)\n",
    "\n",
    "#Predict Output\n",
    "predicted = knn.predict(embed_isomap) \n",
    "\n",
    "# Model Accuracy\n",
    "print(\"Accuracy:\",metrics.accuracy_score(y_train_batch, predicted))"
   ]
  },
  {
   "cell_type": "code",
   "execution_count": null,
   "metadata": {},
   "outputs": [],
   "source": []
  }
 ],
 "metadata": {
  "kernelspec": {
   "display_name": "manifold_env1",
   "language": "python",
   "name": "manifold_env1"
  },
  "language_info": {
   "codemirror_mode": {
    "name": "ipython",
    "version": 3
   },
   "file_extension": ".py",
   "mimetype": "text/x-python",
   "name": "python",
   "nbconvert_exporter": "python",
   "pygments_lexer": "ipython3",
   "version": "3.5.5"
  }
 },
 "nbformat": 4,
 "nbformat_minor": 4
}
