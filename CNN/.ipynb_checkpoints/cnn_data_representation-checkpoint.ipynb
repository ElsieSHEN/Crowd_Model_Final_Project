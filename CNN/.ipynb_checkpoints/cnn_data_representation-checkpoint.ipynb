{
 "cells": [
  {
   "cell_type": "code",
   "execution_count": 1,
   "metadata": {
    "tags": []
   },
   "outputs": [
    {
     "ename": "ImportError",
     "evalue": "cannot import name 'PILLOW_VERSION' from 'PIL' (/home/ubuntujan/anaconda3/lib/python3.7/site-packages/PIL/__init__.py)",
     "output_type": "error",
     "traceback": [
      "\u001b[0;31m---------------------------------------------------------------------------\u001b[0m",
      "\u001b[0;31mImportError\u001b[0m                               Traceback (most recent call last)",
      "\u001b[0;32m<ipython-input-1-e7964fbb7131>\u001b[0m in \u001b[0;36m<module>\u001b[0;34m\u001b[0m\n\u001b[1;32m      8\u001b[0m \u001b[0;32mimport\u001b[0m \u001b[0mtorch\u001b[0m\u001b[0;34m.\u001b[0m\u001b[0mnn\u001b[0m\u001b[0;34m.\u001b[0m\u001b[0mfunctional\u001b[0m \u001b[0;32mas\u001b[0m \u001b[0mF\u001b[0m\u001b[0;34m\u001b[0m\u001b[0;34m\u001b[0m\u001b[0m\n\u001b[1;32m      9\u001b[0m \u001b[0;32mfrom\u001b[0m \u001b[0mtorch\u001b[0m\u001b[0;34m.\u001b[0m\u001b[0mutils\u001b[0m\u001b[0;34m.\u001b[0m\u001b[0mdata\u001b[0m \u001b[0;32mimport\u001b[0m \u001b[0mDataLoader\u001b[0m\u001b[0;34m,\u001b[0m \u001b[0mrandom_split\u001b[0m\u001b[0;34m\u001b[0m\u001b[0;34m\u001b[0m\u001b[0m\n\u001b[0;32m---> 10\u001b[0;31m \u001b[0;32mimport\u001b[0m \u001b[0mtorchvision\u001b[0m\u001b[0;34m\u001b[0m\u001b[0;34m\u001b[0m\u001b[0m\n\u001b[0m\u001b[1;32m     11\u001b[0m \u001b[0;32mimport\u001b[0m \u001b[0mtorchvision\u001b[0m\u001b[0;34m.\u001b[0m\u001b[0mtransforms\u001b[0m \u001b[0;32mas\u001b[0m \u001b[0mtransforms\u001b[0m\u001b[0;34m\u001b[0m\u001b[0;34m\u001b[0m\u001b[0m\n\u001b[1;32m     12\u001b[0m \u001b[0;34m\u001b[0m\u001b[0m\n",
      "\u001b[0;32m~/anaconda3/lib/python3.7/site-packages/torchvision/__init__.py\u001b[0m in \u001b[0;36m<module>\u001b[0;34m\u001b[0m\n\u001b[1;32m      2\u001b[0m \u001b[0;34m\u001b[0m\u001b[0m\n\u001b[1;32m      3\u001b[0m \u001b[0;32mfrom\u001b[0m \u001b[0mtorchvision\u001b[0m \u001b[0;32mimport\u001b[0m \u001b[0mmodels\u001b[0m\u001b[0;34m\u001b[0m\u001b[0;34m\u001b[0m\u001b[0m\n\u001b[0;32m----> 4\u001b[0;31m \u001b[0;32mfrom\u001b[0m \u001b[0mtorchvision\u001b[0m \u001b[0;32mimport\u001b[0m \u001b[0mdatasets\u001b[0m\u001b[0;34m\u001b[0m\u001b[0;34m\u001b[0m\u001b[0m\n\u001b[0m\u001b[1;32m      5\u001b[0m \u001b[0;32mfrom\u001b[0m \u001b[0mtorchvision\u001b[0m \u001b[0;32mimport\u001b[0m \u001b[0mops\u001b[0m\u001b[0;34m\u001b[0m\u001b[0;34m\u001b[0m\u001b[0m\n\u001b[1;32m      6\u001b[0m \u001b[0;32mfrom\u001b[0m \u001b[0mtorchvision\u001b[0m \u001b[0;32mimport\u001b[0m \u001b[0mtransforms\u001b[0m\u001b[0;34m\u001b[0m\u001b[0;34m\u001b[0m\u001b[0m\n",
      "\u001b[0;32m~/anaconda3/lib/python3.7/site-packages/torchvision/datasets/__init__.py\u001b[0m in \u001b[0;36m<module>\u001b[0;34m\u001b[0m\n\u001b[1;32m      7\u001b[0m \u001b[0;32mfrom\u001b[0m \u001b[0;34m.\u001b[0m\u001b[0msvhn\u001b[0m \u001b[0;32mimport\u001b[0m \u001b[0mSVHN\u001b[0m\u001b[0;34m\u001b[0m\u001b[0;34m\u001b[0m\u001b[0m\n\u001b[1;32m      8\u001b[0m \u001b[0;32mfrom\u001b[0m \u001b[0;34m.\u001b[0m\u001b[0mphototour\u001b[0m \u001b[0;32mimport\u001b[0m \u001b[0mPhotoTour\u001b[0m\u001b[0;34m\u001b[0m\u001b[0;34m\u001b[0m\u001b[0m\n\u001b[0;32m----> 9\u001b[0;31m \u001b[0;32mfrom\u001b[0m \u001b[0;34m.\u001b[0m\u001b[0mfakedata\u001b[0m \u001b[0;32mimport\u001b[0m \u001b[0mFakeData\u001b[0m\u001b[0;34m\u001b[0m\u001b[0;34m\u001b[0m\u001b[0m\n\u001b[0m\u001b[1;32m     10\u001b[0m \u001b[0;32mfrom\u001b[0m \u001b[0;34m.\u001b[0m\u001b[0msemeion\u001b[0m \u001b[0;32mimport\u001b[0m \u001b[0mSEMEION\u001b[0m\u001b[0;34m\u001b[0m\u001b[0;34m\u001b[0m\u001b[0m\n\u001b[1;32m     11\u001b[0m \u001b[0;32mfrom\u001b[0m \u001b[0;34m.\u001b[0m\u001b[0momniglot\u001b[0m \u001b[0;32mimport\u001b[0m \u001b[0mOmniglot\u001b[0m\u001b[0;34m\u001b[0m\u001b[0;34m\u001b[0m\u001b[0m\n",
      "\u001b[0;32m~/anaconda3/lib/python3.7/site-packages/torchvision/datasets/fakedata.py\u001b[0m in \u001b[0;36m<module>\u001b[0;34m\u001b[0m\n\u001b[1;32m      1\u001b[0m \u001b[0;32mimport\u001b[0m \u001b[0mtorch\u001b[0m\u001b[0;34m\u001b[0m\u001b[0;34m\u001b[0m\u001b[0m\n\u001b[1;32m      2\u001b[0m \u001b[0;32mfrom\u001b[0m \u001b[0;34m.\u001b[0m\u001b[0mvision\u001b[0m \u001b[0;32mimport\u001b[0m \u001b[0mVisionDataset\u001b[0m\u001b[0;34m\u001b[0m\u001b[0;34m\u001b[0m\u001b[0m\n\u001b[0;32m----> 3\u001b[0;31m \u001b[0;32mfrom\u001b[0m \u001b[0;34m.\u001b[0m\u001b[0;34m.\u001b[0m \u001b[0;32mimport\u001b[0m \u001b[0mtransforms\u001b[0m\u001b[0;34m\u001b[0m\u001b[0;34m\u001b[0m\u001b[0m\n\u001b[0m\u001b[1;32m      4\u001b[0m \u001b[0;34m\u001b[0m\u001b[0m\n\u001b[1;32m      5\u001b[0m \u001b[0;34m\u001b[0m\u001b[0m\n",
      "\u001b[0;32m~/anaconda3/lib/python3.7/site-packages/torchvision/transforms/__init__.py\u001b[0m in \u001b[0;36m<module>\u001b[0;34m\u001b[0m\n\u001b[0;32m----> 1\u001b[0;31m \u001b[0;32mfrom\u001b[0m \u001b[0;34m.\u001b[0m\u001b[0mtransforms\u001b[0m \u001b[0;32mimport\u001b[0m \u001b[0;34m*\u001b[0m\u001b[0;34m\u001b[0m\u001b[0;34m\u001b[0m\u001b[0m\n\u001b[0m",
      "\u001b[0;32m~/anaconda3/lib/python3.7/site-packages/torchvision/transforms/transforms.py\u001b[0m in \u001b[0;36m<module>\u001b[0;34m\u001b[0m\n\u001b[1;32m     15\u001b[0m \u001b[0;32mimport\u001b[0m \u001b[0mwarnings\u001b[0m\u001b[0;34m\u001b[0m\u001b[0;34m\u001b[0m\u001b[0m\n\u001b[1;32m     16\u001b[0m \u001b[0;34m\u001b[0m\u001b[0m\n\u001b[0;32m---> 17\u001b[0;31m \u001b[0;32mfrom\u001b[0m \u001b[0;34m.\u001b[0m \u001b[0;32mimport\u001b[0m \u001b[0mfunctional\u001b[0m \u001b[0;32mas\u001b[0m \u001b[0mF\u001b[0m\u001b[0;34m\u001b[0m\u001b[0;34m\u001b[0m\u001b[0m\n\u001b[0m\u001b[1;32m     18\u001b[0m \u001b[0;34m\u001b[0m\u001b[0m\n\u001b[1;32m     19\u001b[0m \u001b[0;32mif\u001b[0m \u001b[0msys\u001b[0m\u001b[0;34m.\u001b[0m\u001b[0mversion_info\u001b[0m \u001b[0;34m<\u001b[0m \u001b[0;34m(\u001b[0m\u001b[0;36m3\u001b[0m\u001b[0;34m,\u001b[0m \u001b[0;36m3\u001b[0m\u001b[0;34m)\u001b[0m\u001b[0;34m:\u001b[0m\u001b[0;34m\u001b[0m\u001b[0;34m\u001b[0m\u001b[0m\n",
      "\u001b[0;32m~/anaconda3/lib/python3.7/site-packages/torchvision/transforms/functional.py\u001b[0m in \u001b[0;36m<module>\u001b[0;34m\u001b[0m\n\u001b[1;32m      3\u001b[0m \u001b[0;32mimport\u001b[0m \u001b[0msys\u001b[0m\u001b[0;34m\u001b[0m\u001b[0;34m\u001b[0m\u001b[0m\n\u001b[1;32m      4\u001b[0m \u001b[0;32mimport\u001b[0m \u001b[0mmath\u001b[0m\u001b[0;34m\u001b[0m\u001b[0;34m\u001b[0m\u001b[0m\n\u001b[0;32m----> 5\u001b[0;31m \u001b[0;32mfrom\u001b[0m \u001b[0mPIL\u001b[0m \u001b[0;32mimport\u001b[0m \u001b[0mImage\u001b[0m\u001b[0;34m,\u001b[0m \u001b[0mImageOps\u001b[0m\u001b[0;34m,\u001b[0m \u001b[0mImageEnhance\u001b[0m\u001b[0;34m,\u001b[0m \u001b[0mPILLOW_VERSION\u001b[0m\u001b[0;34m\u001b[0m\u001b[0;34m\u001b[0m\u001b[0m\n\u001b[0m\u001b[1;32m      6\u001b[0m \u001b[0;32mtry\u001b[0m\u001b[0;34m:\u001b[0m\u001b[0;34m\u001b[0m\u001b[0;34m\u001b[0m\u001b[0m\n\u001b[1;32m      7\u001b[0m     \u001b[0;32mimport\u001b[0m \u001b[0maccimage\u001b[0m\u001b[0;34m\u001b[0m\u001b[0;34m\u001b[0m\u001b[0m\n",
      "\u001b[0;31mImportError\u001b[0m: cannot import name 'PILLOW_VERSION' from 'PIL' (/home/ubuntujan/anaconda3/lib/python3.7/site-packages/PIL/__init__.py)"
     ]
    }
   ],
   "source": [
    "try:\n",
    "    from PIL import __version__\n",
    "except ImportError:\n",
    "    from PIL import PILLOW_VERSION as __version__\n",
    "\n",
    "import os\n",
    "import numpy as np\n",
    "import matplotlib.pyplot as plt\n",
    "import matplotlib.image as mpimg \n",
    "\n",
    "import torch\n",
    "import torch.nn as nn\n",
    "import torch.nn.functional as F\n",
    "from torch.utils.data import DataLoader, random_split\n",
    "import torchvision\n",
    "import torchvision.transforms as transforms\n",
    "\n",
    "import pytorch_lightning as pl\n",
    "from pytorch_lightning.callbacks import EarlyStopping\n",
    "\n",
    "from src.networks.cnn_model import CNN\n",
    "\n",
    "%matplotlib inline\n",
    "plt.rcParams['figure.figsize'] = (8.0, 8.0) # set default size of plots\n",
    "plt.rcParams['image.interpolation'] = 'nearest'\n",
    "plt.rcParams['image.cmap'] = 'gray'\n",
    "\n",
    "%load_ext autoreload\n",
    "%autoreload 2"
   ]
  },
  {
   "cell_type": "code",
   "execution_count": 12,
   "metadata": {
    "tags": []
   },
   "outputs": [
    {
     "name": "stdout",
     "output_type": "stream",
     "text": [
      "(32, 32, 3)\n"
     ]
    },
    {
     "data": {
      "image/png": "[encoded data removed]",
      "image/svg+xml": [
       "<?xml version=\"1.0\" encoding=\"utf-8\" standalone=\"no\"?>\r\n",
       "<!DOCTYPE svg PUBLIC \"-//W3C//DTD SVG 1.1//EN\"\r\n",
       "  \"http://www.w3.org/Graphics/SVG/1.1/DTD/svg11.dtd\">\r\n",
       "<!-- Created with matplotlib (https://matplotlib.org/) -->\r\n",
       "<svg height=\"449.28pt\" version=\"1.1\" viewBox=\"0 0 449.28 449.28\" width=\"449.28pt\" xmlns=\"http://www.w3.org/2000/svg\" xmlns:xlink=\"http://www.w3.org/1999/xlink\">\r\n",
       " <defs>\r\n",
       "  <style type=\"text/css\">\r\n",
       "*{stroke-linecap:butt;stroke-linejoin:round;}\r\n",
       "  </style>\r\n",
       " </defs>\r\n",
       " <g id=\"figure_1\">\r\n",
       "  <g id=\"patch_1\">\r\n",
       "   <path d=\"M 0 449.28 \r\n",
       "L 449.28 449.28 \r\n",
       "L 449.28 0 \r\n",
       "L 0 0 \r\n",
       "z\r\n",
       "\" style=\"fill:none;\"/>\r\n",
       "  </g>\r\n",
       "  <g id=\"axes_1\">\r\n",
       "   <g clip-path=\"url(#p4d1468c7a0)\">\r\n",
       "    <image height=\"435\" id=\"image3718392cd0\" transform=\"scale(1 -1)translate(0 -435)\" width=\"435\" x=\"7.2\" xlink:href=\"data:image/png;base64,\r\n",
       "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\" y=\"-7.08\"/>\r\n",
       "   </g>\r\n",
       "  </g>\r\n",
       " </g>\r\n",
       " <defs>\r\n",
       "  <clipPath id=\"p4d1468c7a0\">\r\n",
       "   <rect height=\"434.88\" width=\"434.88\" x=\"7.2\" y=\"7.2\"/>\r\n",
       "  </clipPath>\r\n",
       " </defs>\r\n",
       "</svg>\r\n"
      ],
      "text/plain": [
       "<Figure size 576x576 with 1 Axes>"
      ]
     },
     "metadata": {
      "needs_background": "light"
     },
     "output_type": "display_data"
    }
   ],
   "source": [
    "# Demonstrate original picture\n",
    "img_root = '../Datasets/cifar10/bird/0001.png'\n",
    "imgpic = mpimg.imread(img_root)\n",
    "print(imgpic.shape)\n",
    "plt.imshow(imgpic)\n",
    "plt.axis('off')\n",
    "plt.show()"
   ]
  },
  {
   "cell_type": "code",
   "execution_count": 28,
   "metadata": {},
   "outputs": [],
   "source": [
    "hparams = {\"batch_size\": 16 ,\n",
    "          \"learning_rate\": 0.001,\n",
    "          \"num_filters\": 32,\n",
    "          \"kernel_size\": 3,\n",
    "          \"stride\": 1,\n",
    "          \"padding\": 1}\n",
    "\n",
    "model = CNN(hparams)\n"
   ]
  },
  {
   "cell_type": "code",
   "execution_count": 31,
   "metadata": {
    "tags": []
   },
   "outputs": [
    {
     "ename": "TypeError",
     "evalue": "object of type 'method' has no len()",
     "output_type": "error",
     "traceback": [
      "\u001b[1;31m---------------------------------------------------------------------------\u001b[0m",
      "\u001b[1;31mTypeError\u001b[0m                                 Traceback (most recent call last)",
      "\u001b[1;32m<ipython-input-31-6759e63b0b62>\u001b[0m in \u001b[0;36m<module>\u001b[1;34m\u001b[0m\n\u001b[0;32m      1\u001b[0m \u001b[0mtrain\u001b[0m \u001b[1;33m=\u001b[0m \u001b[0mmodel\u001b[0m\u001b[1;33m.\u001b[0m\u001b[0mtrain_dataloader\u001b[0m\u001b[1;33m\u001b[0m\u001b[1;33m\u001b[0m\u001b[0m\n\u001b[1;32m----> 2\u001b[1;33m \u001b[0mprint\u001b[0m\u001b[1;33m(\u001b[0m\u001b[0mlen\u001b[0m\u001b[1;33m(\u001b[0m\u001b[0mtrain\u001b[0m\u001b[1;33m)\u001b[0m\u001b[1;33m)\u001b[0m\u001b[1;33m\u001b[0m\u001b[1;33m\u001b[0m\u001b[0m\n\u001b[0m",
      "\u001b[1;31mTypeError\u001b[0m: object of type 'method' has no len()"
     ]
    }
   ],
   "source": [
    "train = model.train_dataloader\n"
   ]
  },
  {
   "cell_type": "code",
   "execution_count": 30,
   "metadata": {},
   "outputs": [
    {
     "ename": "TypeError",
     "evalue": "'DataLoader' object is not subscriptable",
     "output_type": "error",
     "traceback": [
      "\u001b[1;31m---------------------------------------------------------------------------\u001b[0m",
      "\u001b[1;31mTypeError\u001b[0m                                 Traceback (most recent call last)",
      "\u001b[1;32m<ipython-input-30-9b7c4a596534>\u001b[0m in \u001b[0;36m<module>\u001b[1;34m\u001b[0m\n\u001b[1;32m----> 1\u001b[1;33m \u001b[0mtrain\u001b[0m\u001b[1;33m[\u001b[0m\u001b[1;36m0\u001b[0m\u001b[1;33m]\u001b[0m\u001b[1;33m\u001b[0m\u001b[1;33m\u001b[0m\u001b[0m\n\u001b[0m",
      "\u001b[1;31mTypeError\u001b[0m: 'DataLoader' object is not subscriptable"
     ]
    }
   ],
   "source": [
    "train[0]"
   ]
  },
  {
   "cell_type": "code",
   "execution_count": 27,
   "metadata": {
    "tags": []
   },
   "outputs": [
    {
     "name": "stderr",
     "output_type": "stream",
     "text": [
      "GPU available: False, used: False\n",
      "No environment variable for node rank defined. Set as 0.\n"
     ]
    },
    {
     "ename": "AttributeError",
     "evalue": "'CNN' object has no attribute 'summarize'",
     "output_type": "error",
     "traceback": [
      "\u001b[1;31m---------------------------------------------------------------------------\u001b[0m",
      "\u001b[1;31mAttributeError\u001b[0m                            Traceback (most recent call last)",
      "\u001b[1;32m<ipython-input-27-1c59a261bb64>\u001b[0m in \u001b[0;36m<module>\u001b[1;34m\u001b[0m\n\u001b[0;32m      8\u001b[0m \u001b[1;33m\u001b[0m\u001b[0m\n\u001b[0;32m      9\u001b[0m \u001b[0mtrainer\u001b[0m \u001b[1;33m=\u001b[0m \u001b[0mpl\u001b[0m\u001b[1;33m.\u001b[0m\u001b[0mTrainer\u001b[0m\u001b[1;33m(\u001b[0m\u001b[0mmax_epochs\u001b[0m\u001b[1;33m=\u001b[0m\u001b[1;36m10\u001b[0m\u001b[1;33m)\u001b[0m\u001b[1;33m\u001b[0m\u001b[1;33m\u001b[0m\u001b[0m\n\u001b[1;32m---> 10\u001b[1;33m \u001b[0mtrainer\u001b[0m\u001b[1;33m.\u001b[0m\u001b[0mfit\u001b[0m\u001b[1;33m(\u001b[0m\u001b[0mmodel\u001b[0m\u001b[1;33m)\u001b[0m\u001b[1;33m\u001b[0m\u001b[1;33m\u001b[0m\u001b[0m\n\u001b[0m",
      "\u001b[1;32mE:\\Anaconda\\Anaconda\\envs\\pytorch\\lib\\site-packages\\pytorch_lightning\\trainer\\trainer.py\u001b[0m in \u001b[0;36mfit\u001b[1;34m(self, model, train_dataloader, val_dataloaders)\u001b[0m\n\u001b[0;32m    885\u001b[0m             \u001b[0mself\u001b[0m\u001b[1;33m.\u001b[0m\u001b[0moptimizers\u001b[0m\u001b[1;33m,\u001b[0m \u001b[0mself\u001b[0m\u001b[1;33m.\u001b[0m\u001b[0mlr_schedulers\u001b[0m\u001b[1;33m,\u001b[0m \u001b[0mself\u001b[0m\u001b[1;33m.\u001b[0m\u001b[0moptimizer_frequencies\u001b[0m \u001b[1;33m=\u001b[0m \u001b[0mself\u001b[0m\u001b[1;33m.\u001b[0m\u001b[0minit_optimizers\u001b[0m\u001b[1;33m(\u001b[0m\u001b[0mmodel\u001b[0m\u001b[1;33m)\u001b[0m\u001b[1;33m\u001b[0m\u001b[1;33m\u001b[0m\u001b[0m\n\u001b[0;32m    886\u001b[0m \u001b[1;33m\u001b[0m\u001b[0m\n\u001b[1;32m--> 887\u001b[1;33m             \u001b[0mself\u001b[0m\u001b[1;33m.\u001b[0m\u001b[0mrun_pretrain_routine\u001b[0m\u001b[1;33m(\u001b[0m\u001b[0mmodel\u001b[0m\u001b[1;33m)\u001b[0m\u001b[1;33m\u001b[0m\u001b[1;33m\u001b[0m\u001b[0m\n\u001b[0m\u001b[0;32m    888\u001b[0m \u001b[1;33m\u001b[0m\u001b[0m\n\u001b[0;32m    889\u001b[0m         \u001b[1;31m# return 1 when finished\u001b[0m\u001b[1;33m\u001b[0m\u001b[1;33m\u001b[0m\u001b[1;33m\u001b[0m\u001b[0m\n",
      "\u001b[1;32mE:\\Anaconda\\Anaconda\\envs\\pytorch\\lib\\site-packages\\pytorch_lightning\\trainer\\trainer.py\u001b[0m in \u001b[0;36mrun_pretrain_routine\u001b[1;34m(self, model)\u001b[0m\n\u001b[0;32m    962\u001b[0m         \u001b[1;32mif\u001b[0m \u001b[0mself\u001b[0m\u001b[1;33m.\u001b[0m\u001b[0mproc_rank\u001b[0m \u001b[1;33m==\u001b[0m \u001b[1;36m0\u001b[0m \u001b[1;32mand\u001b[0m \u001b[0mself\u001b[0m\u001b[1;33m.\u001b[0m\u001b[0mweights_summary\u001b[0m \u001b[1;32mis\u001b[0m \u001b[1;32mnot\u001b[0m \u001b[1;32mNone\u001b[0m \u001b[1;32mand\u001b[0m \u001b[1;32mnot\u001b[0m \u001b[0mself\u001b[0m\u001b[1;33m.\u001b[0m\u001b[0mtesting\u001b[0m\u001b[1;33m:\u001b[0m\u001b[1;33m\u001b[0m\u001b[1;33m\u001b[0m\u001b[0m\n\u001b[0;32m    963\u001b[0m             \u001b[1;32mif\u001b[0m \u001b[0mself\u001b[0m\u001b[1;33m.\u001b[0m\u001b[0mweights_summary\u001b[0m \u001b[1;32min\u001b[0m \u001b[1;33m[\u001b[0m\u001b[1;34m'full'\u001b[0m\u001b[1;33m,\u001b[0m \u001b[1;34m'top'\u001b[0m\u001b[1;33m]\u001b[0m\u001b[1;33m:\u001b[0m\u001b[1;33m\u001b[0m\u001b[1;33m\u001b[0m\u001b[0m\n\u001b[1;32m--> 964\u001b[1;33m                 \u001b[0mref_model\u001b[0m\u001b[1;33m.\u001b[0m\u001b[0msummarize\u001b[0m\u001b[1;33m(\u001b[0m\u001b[0mmode\u001b[0m\u001b[1;33m=\u001b[0m\u001b[0mself\u001b[0m\u001b[1;33m.\u001b[0m\u001b[0mweights_summary\u001b[0m\u001b[1;33m)\u001b[0m\u001b[1;33m\u001b[0m\u001b[1;33m\u001b[0m\u001b[0m\n\u001b[0m\u001b[0;32m    965\u001b[0m             \u001b[1;32melse\u001b[0m\u001b[1;33m:\u001b[0m\u001b[1;33m\u001b[0m\u001b[1;33m\u001b[0m\u001b[0m\n\u001b[0;32m    966\u001b[0m                 \u001b[1;32mraise\u001b[0m \u001b[0mMisconfigurationException\u001b[0m\u001b[1;33m(\u001b[0m\u001b[1;34m\"weights_summary can be None, 'full' or 'top'\"\u001b[0m\u001b[1;33m)\u001b[0m\u001b[1;33m\u001b[0m\u001b[1;33m\u001b[0m\u001b[0m\n",
      "\u001b[1;32mE:\\Anaconda\\Anaconda\\envs\\pytorch\\lib\\site-packages\\torch\\nn\\modules\\module.py\u001b[0m in \u001b[0;36m__getattr__\u001b[1;34m(self, name)\u001b[0m\n\u001b[0;32m    574\u001b[0m                 \u001b[1;32mreturn\u001b[0m \u001b[0mmodules\u001b[0m\u001b[1;33m[\u001b[0m\u001b[0mname\u001b[0m\u001b[1;33m]\u001b[0m\u001b[1;33m\u001b[0m\u001b[1;33m\u001b[0m\u001b[0m\n\u001b[0;32m    575\u001b[0m         raise AttributeError(\"'{}' object has no attribute '{}'\".format(\n\u001b[1;32m--> 576\u001b[1;33m             type(self).__name__, name))\n\u001b[0m\u001b[0;32m    577\u001b[0m \u001b[1;33m\u001b[0m\u001b[0m\n\u001b[0;32m    578\u001b[0m     \u001b[1;32mdef\u001b[0m \u001b[0m__setattr__\u001b[0m\u001b[1;33m(\u001b[0m\u001b[0mself\u001b[0m\u001b[1;33m,\u001b[0m \u001b[0mname\u001b[0m\u001b[1;33m,\u001b[0m \u001b[0mvalue\u001b[0m\u001b[1;33m)\u001b[0m\u001b[1;33m:\u001b[0m\u001b[1;33m\u001b[0m\u001b[1;33m\u001b[0m\u001b[0m\n",
      "\u001b[1;31mAttributeError\u001b[0m: 'CNN' object has no attribute 'summarize'"
     ]
    }
   ],
   "source": [
    "\n",
    "train = model.train_dataloader\n",
    "epochs = 10\n",
    "\n",
    "\n",
    "optimizer = torch.optim.Adam(model.parameters(), lr=0.001, betas=(0.9, 0.999), eps=1e-08, weight_decay=0)\n",
    "criterion = torch.nn.CrossEntropyLoss(ignore_index=-1)\n",
    "\n",
    "for epoch in range(epochs):\n",
    "    train_losses = []\n",
    "    for img in train:\n",
    "        org_img = img\n",
    "        \n",
    "        optimizer.zero_grad()\n",
    "        outputs = model(inputs) \n",
    "\n",
    "        loss = 0\n",
    "        loss = criterion(outputs, targets)\n",
    "        train_losses.append(loss.item())\n",
    "        loss.backward()\n",
    "        optimizer.step()\n",
    "    \n",
    "    _, preds = torch.max(outputs, 1)\n",
    "    targets_mask = targets >= 0\n",
    "    train_acc = np.mean((preds == targets)[targets_mask].data.cpu().numpy())\n",
    "    print('[Epoch %d/%d] TRAIN acc/loss: %.3f/%.3f' % (epoch + 1,\n",
    "                                                        epochs,\n",
    "                                                        train_acc,\n",
    "                                                        train_losses[-1]))"
   ]
  },
  {
   "cell_type": "code",
   "execution_count": null,
   "metadata": {},
   "outputs": [],
   "source": []
  }
 ],
 "metadata": {
  "kernelspec": {
   "display_name": "Python 3",
   "language": "python",
   "name": "python3"
  },
  "language_info": {
   "codemirror_mode": {
    "name": "ipython",
    "version": 3
   },
   "file_extension": ".py",
   "mimetype": "text/x-python",
   "name": "python",
   "nbconvert_exporter": "python",
   "pygments_lexer": "ipython3",
   "version": "3.7.6"
  },
  "varInspector": {
   "cols": {
    "lenName": 16,
    "lenType": 16,
    "lenVar": 40
   },
   "kernels_config": {
    "python": {
     "delete_cmd_postfix": "",
     "delete_cmd_prefix": "del ",
     "library": "var_list.py",
     "varRefreshCmd": "print(var_dic_list())"
    },
    "r": {
     "delete_cmd_postfix": ") ",
     "delete_cmd_prefix": "rm(",
     "library": "var_list.r",
     "varRefreshCmd": "cat(var_dic_list()) "
    }
   },
   "types_to_exclude": [
    "module",
    "function",
    "builtin_function_or_method",
    "instance",
    "_Feature"
   ],
   "window_display": false
  }
 },
 "nbformat": 4,
 "nbformat_minor": 2
}
