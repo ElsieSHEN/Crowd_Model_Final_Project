{
 "cells": [
  {
   "cell_type": "code",
   "execution_count": 18,
   "metadata": {
    "tags": []
   },
   "outputs": [
    {
     "name": "stdout",
     "output_type": "stream",
     "text": [
      "The autoreload extension is already loaded. To reload it, use:\n",
      "  %reload_ext autoreload\n"
     ]
    }
   ],
   "source": [
    "import numpy as np\n",
    "\n",
    "import torch\n",
    "import torch.optim as optim\n",
    "from torch.utils.data import DataLoader\n",
    "\n",
    "from torchvision import datasets\n",
    "import torchvision.transforms as transforms\n",
    "\n",
    "from models.cnn import CNNModel\n",
    "from models.fc import FCModel\n",
    "from utils.train import train \n",
    "from utils.test import test\n",
    "\n",
    "%load_ext autoreload\n",
    "%autoreload 2"
   ]
  },
  {
   "cell_type": "markdown",
   "metadata": {},
   "source": [
    "## Prepare Train and Test DataLoader"
   ]
  },
  {
   "cell_type": "code",
   "execution_count": 19,
   "metadata": {
    "tags": []
   },
   "outputs": [
    {
     "name": "stdout",
     "output_type": "stream",
     "text": [
      "Files already downloaded and verified\n",
      "Files already downloaded and verified\n"
     ]
    }
   ],
   "source": [
    "# Prepare train and test data\n",
    "batch_size = 6\n",
    "\n",
    "transform = transforms.Compose([\n",
    "    transforms.ToTensor(),\n",
    "    transforms.Normalize((0.485, 0.456, 0.406), (0.5, 0.5, 0.5))\n",
    "])\n",
    "\n",
    "trainset = datasets.CIFAR10(root='./data', train=True,\n",
    "                                        download=True, transform=transform)\n",
    "trainloader = DataLoader(trainset, batch_size=batch_size,\n",
    "                                          shuffle=True, num_workers=2)\n",
    "\n",
    "testset = datasets.CIFAR10(root='./data', train=False,\n",
    "                                       download=True, transform=transform)\n",
    "testloader = DataLoader(testset, batch_size=batch_size,\n",
    "                                         shuffle=False, num_workers=2)"
   ]
  },
  {
   "cell_type": "markdown",
   "metadata": {},
   "source": [
    "## FC Model (Baseline Model)"
   ]
  },
  {
   "cell_type": "code",
   "execution_count": 20,
   "metadata": {
    "tags": []
   },
   "outputs": [
    {
     "name": "stdout",
     "output_type": "stream",
     "text": [
      "Start training!\n",
      "Epoch: 1 \t Training Loss:1.680359\n",
      "Epoch: 2 \t Training Loss:1.509640\n",
      "Epoch: 3 \t Training Loss:1.439319\n",
      "Epoch: 4 \t Training Loss:1.385626\n",
      "Epoch: 5 \t Training Loss:1.341938\n",
      "Epoch: 6 \t Training Loss:1.305226\n",
      "Epoch: 7 \t Training Loss:1.267772\n",
      "Epoch: 8 \t Training Loss:1.232571\n",
      "Epoch: 9 \t Training Loss:1.201848\n",
      "Epoch: 10 \t Training Loss:1.168903\n",
      "Finish training!\n",
      "Total Accuracy: 51 %\n",
      "Accuracy of plane : 59.820090 %\n",
      "Accuracy of   car : 56.801196 %\n",
      "Accuracy of  bird : 43.511450 %\n",
      "Accuracy of   cat : 22.385862 %\n",
      "Accuracy of  deer : 48.372781 %\n",
      "Accuracy of   dog : 57.846154 %\n",
      "Accuracy of  frog : 41.779789 %\n",
      "Accuracy of horse : 59.097525 %\n",
      "Accuracy of  ship : 66.870229 %\n",
      "Accuracy of truck : 58.470765 %\n"
     ]
    }
   ],
   "source": [
    "fc_model = FCModel()\n",
    "train(fc_model, trainloader)\n",
    "test(fc_model, testloader)"
   ]
  },
  {
   "cell_type": "markdown",
   "metadata": {},
   "source": [
    "## CNN Model"
   ]
  },
  {
   "cell_type": "code",
   "execution_count": 22,
   "metadata": {
    "tags": []
   },
   "outputs": [
    {
     "name": "stdout",
     "output_type": "stream",
     "text": [
      "Start training!\n",
      "Epoch: 1 \t Training Loss:1.576466\n",
      "Epoch: 2 \t Training Loss:1.156584\n",
      "Epoch: 3 \t Training Loss:0.965314\n",
      "Epoch: 4 \t Training Loss:0.827768\n",
      "Epoch: 5 \t Training Loss:0.710296\n",
      "Epoch: 6 \t Training Loss:0.598831\n",
      "Epoch: 7 \t Training Loss:0.497439\n",
      "Epoch: 8 \t Training Loss:0.400731\n",
      "Epoch: 9 \t Training Loss:0.319060\n",
      "Epoch: 10 \t Training Loss:0.256234\n",
      "Finish training!\n",
      "Total Accuracy: 70 %\n",
      "Accuracy of plane : 78.410795 %\n",
      "Accuracy of   car : 83.557549 %\n",
      "Accuracy of  bird : 54.656489 %\n",
      "Accuracy of   cat : 58.468336 %\n",
      "Accuracy of  deer : 65.236686 %\n",
      "Accuracy of   dog : 54.307692 %\n",
      "Accuracy of  frog : 73.906486 %\n",
      "Accuracy of horse : 77.583697 %\n",
      "Accuracy of  ship : 73.435115 %\n",
      "Accuracy of truck : 81.409295 %\n"
     ]
    }
   ],
   "source": [
    "cnn_model = CNNModel()\n",
    "train(cnn_model, trainloader)\n",
    "test(cnn_model, testloader)"
   ]
  },
  {
   "cell_type": "code",
   "execution_count": null,
   "metadata": {},
   "outputs": [],
   "source": []
  }
 ],
 "metadata": {
  "kernelspec": {
   "display_name": "pytorch_test36_gpu",
   "language": "python",
   "name": "python3"
  },
  "language_info": {
   "codemirror_mode": {
    "name": "ipython",
    "version": 3
   },
   "file_extension": ".py",
   "mimetype": "text/x-python",
   "name": "python",
   "nbconvert_exporter": "python",
   "pygments_lexer": "ipython3",
   "version": "3.6.10"
  }
 },
 "nbformat": 4,
 "nbformat_minor": 2
}
