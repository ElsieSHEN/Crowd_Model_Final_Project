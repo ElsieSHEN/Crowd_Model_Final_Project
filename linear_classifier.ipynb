{
 "cells": [
  {
   "cell_type": "code",
   "execution_count": 13,
   "metadata": {
    "tags": []
   },
   "outputs": [
    {
     "name": "stdout",
     "output_type": "stream",
     "text": [
      "The autoreload extension is already loaded. To reload it, use:\n",
      "  %reload_ext autoreload\n"
     ]
    }
   ],
   "source": [
    "import numpy as np\n",
    "\n",
    "import torch\n",
    "import torch.optim as optim\n",
    "from torch.utils.data import DataLoader\n",
    "\n",
    "from torchvision import datasets\n",
    "import torchvision.transforms as transforms\n",
    "\n",
    "from models.cnn import CNNModel\n",
    "from models.fc import FCModel\n",
    "from utils.train import train\n",
    "from utils.test import test\n",
    "\n",
    "import warnings\n",
    "warnings.filterwarnings('ignore')\n",
    "\n",
    "%load_ext autoreload\n",
    "%autoreload 2"
   ]
  },
  {
   "cell_type": "markdown",
   "metadata": {},
   "source": [
    "## Prepare Train and Test DataLoader"
   ]
  },
  {
   "cell_type": "code",
   "execution_count": 2,
   "metadata": {
    "tags": []
   },
   "outputs": [
    {
     "name": "stdout",
     "output_type": "stream",
     "text": [
      "Files already downloaded and verified\n",
      "Files already downloaded and verified\n"
     ]
    }
   ],
   "source": [
    "# Prepare train and test data\n",
    "batch_size = 6\n",
    "\n",
    "transform = transforms.Compose([\n",
    "    transforms.ToTensor(),\n",
    "    transforms.Normalize((0.485, 0.456, 0.406), (0.5, 0.5, 0.5))\n",
    "])\n",
    "\n",
    "trainset = datasets.CIFAR10(root='./data', train=True,\n",
    "                                        download=True, transform=transform)\n",
    "trainloader = DataLoader(trainset, batch_size=batch_size,\n",
    "                                          shuffle=True, num_workers=2)\n",
    "\n",
    "testset = datasets.CIFAR10(root='./data', train=False,\n",
    "                                       download=True, transform=transform)\n",
    "testloader = DataLoader(testset, batch_size=batch_size,\n",
    "                                         shuffle=False, num_workers=2)"
   ]
  },
  {
   "cell_type": "markdown",
   "metadata": {},
   "source": [
    "## FC Model (Baseline Model)"
   ]
  },
  {
   "cell_type": "code",
   "execution_count": 3,
   "metadata": {
    "tags": []
   },
   "outputs": [
    {
     "name": "stdout",
     "output_type": "stream",
     "text": [
      "Start training!\n",
      "Epoch: 1 \t Training Loss:1.678434\n",
      "Epoch: 2 \t Training Loss:1.512479\n",
      "Epoch: 3 \t Training Loss:1.437875\n",
      "Epoch: 4 \t Training Loss:1.386689\n",
      "Epoch: 5 \t Training Loss:1.339612\n",
      "Epoch: 6 \t Training Loss:1.303129\n",
      "Epoch: 7 \t Training Loss:1.269025\n",
      "Epoch: 8 \t Training Loss:1.231251\n",
      "Epoch: 9 \t Training Loss:1.198181\n",
      "Epoch: 10 \t Training Loss:1.176231\n",
      "Finish training! time 2047.11s\n",
      "\n",
      "Total Accuracy: 50 %\n",
      "Accuracy of plane : 53.073463 %\n",
      "Accuracy of   car : 51.270553 %\n",
      "Accuracy of  bird : 34.961832 %\n",
      "Accuracy of   cat : 25.036819 %\n",
      "Accuracy of  deer : 41.568047 %\n",
      "Accuracy of   dog : 35.538462 %\n",
      "Accuracy of  frog : 69.834087 %\n",
      "Accuracy of horse : 63.318777 %\n",
      "Accuracy of  ship : 63.511450 %\n",
      "Accuracy of truck : 69.865067 %\n"
     ]
    }
   ],
   "source": [
    "fc_model = FCModel()\n",
    "train(fc_model, trainloader)\n",
    "test(fc_model, testloader)"
   ]
  },
  {
   "cell_type": "markdown",
   "metadata": {},
   "source": [
    "## CNN Model"
   ]
  },
  {
   "cell_type": "code",
   "execution_count": 4,
   "metadata": {
    "tags": []
   },
   "outputs": [
    {
     "name": "stdout",
     "output_type": "stream",
     "text": [
      "Start training!\n",
      "Epoch: 1 \t Training Loss:1.665041\n",
      "Epoch: 2 \t Training Loss:1.344108\n",
      "Epoch: 3 \t Training Loss:1.226866\n",
      "Epoch: 4 \t Training Loss:1.141483\n",
      "Epoch: 5 \t Training Loss:1.077088\n",
      "Epoch: 6 \t Training Loss:1.022185\n",
      "Epoch: 7 \t Training Loss:0.973952\n",
      "Epoch: 8 \t Training Loss:0.929147\n",
      "Epoch: 9 \t Training Loss:0.897840\n",
      "Epoch: 10 \t Training Loss:0.863492\n",
      "Finish training! time 1211.61s\n",
      "\n",
      "Total Accuracy: 64 %\n",
      "Accuracy of plane : 74.962519 %\n",
      "Accuracy of   car : 72.795217 %\n",
      "Accuracy of  bird : 54.809160 %\n",
      "Accuracy of   cat : 37.260677 %\n",
      "Accuracy of  deer : 52.662722 %\n",
      "Accuracy of   dog : 63.384615 %\n",
      "Accuracy of  frog : 70.889894 %\n",
      "Accuracy of horse : 69.577875 %\n",
      "Accuracy of  ship : 74.961832 %\n",
      "Accuracy of truck : 74.212894 %\n"
     ]
    }
   ],
   "source": [
    "cnn_model = CNNModel()\n",
    "train(cnn_model, trainloader)\n",
    "test(cnn_model, testloader)"
   ]
  },
  {
   "cell_type": "markdown",
   "metadata": {},
   "source": [
    "## PCA Model"
   ]
  },
  {
   "cell_type": "code",
   "execution_count": null,
   "metadata": {},
   "outputs": [],
   "source": [
    "from models.pca import PCAModel\n",
    "pca_model = PCAModel()\n",
    "train(pca_model, trainloader)\n",
    "test(pca_model, testloader)"
   ]
  },
  {
   "cell_type": "markdown",
   "metadata": {},
   "source": [
    "## Diffusion Maps"
   ]
  },
  {
   "cell_type": "markdown",
   "metadata": {
    "tags": []
   },
   "source": [
    "Due to the computation time constraint, see the result on datafold.ipynb \"Linear classify on diffusion maps\""
   ]
  },
  {
   "cell_type": "markdown",
   "metadata": {},
   "source": [
    "## Megaman Model"
   ]
  },
  {
   "cell_type": "code",
   "execution_count": 8,
   "metadata": {},
   "outputs": [
    {
     "name": "stdout",
     "output_type": "stream",
     "text": [
      "Files already downloaded and verified\n",
      "Files already downloaded and verified\n"
     ]
    }
   ],
   "source": [
    "import warnings\n",
    "warnings.filterwarnings('ignore')\n",
    "\n",
    "# take bigger batchsize for megaman\n",
    "\n",
    "batch_size = 100\n",
    "\n",
    "transform = transforms.Compose([\n",
    "    transforms.ToTensor(),\n",
    "    transforms.Normalize((0.485, 0.456, 0.406), (0.5, 0.5, 0.5))\n",
    "])\n",
    "\n",
    "trainset = datasets.CIFAR10(root='./data', train=True,\n",
    "                                        download=True, transform=transform)\n",
    "trainloader = DataLoader(trainset, batch_size=batch_size,\n",
    "                                          shuffle=True, num_workers=2)\n",
    "\n",
    "testset = datasets.CIFAR10(root='./data', train=False,\n",
    "                                       download=True, transform=transform)\n",
    "testloader = DataLoader(testset, batch_size=batch_size,\n",
    "                                         shuffle=False, num_workers=2)"
   ]
  },
  {
   "cell_type": "code",
   "execution_count": 9,
   "metadata": {},
   "outputs": [
    {
     "name": "stdout",
     "output_type": "stream",
     "text": [
      "Start training!\n",
      "Epoch: 1 \t Training Loss:2.304320\n",
      "Epoch: 2 \t Training Loss:2.303833\n",
      "Epoch: 3 \t Training Loss:2.303823\n",
      "Epoch: 4 \t Training Loss:2.303775\n",
      "Epoch: 5 \t Training Loss:2.303776\n",
      "Epoch: 6 \t Training Loss:2.303782\n",
      "Epoch: 7 \t Training Loss:2.303747\n",
      "Epoch: 8 \t Training Loss:2.303462\n",
      "Epoch: 9 \t Training Loss:2.303258\n",
      "Epoch: 10 \t Training Loss:2.303377\n",
      "Finish training! time 506.94s\n",
      "\n",
      "Total Accuracy:  9 %\n",
      "Accuracy of plane : 2.272727 %\n",
      "Accuracy of   car : 28.125000 %\n",
      "Accuracy of  bird : 5.263158 %\n",
      "Accuracy of   cat : 18.604651 %\n",
      "Accuracy of  deer : 10.204082 %\n",
      "Accuracy of   dog : 15.625000 %\n",
      "Accuracy of  frog : 5.660377 %\n",
      "Accuracy of horse : 3.125000 %\n",
      "Accuracy of  ship : 8.333333 %\n",
      "Accuracy of truck : 0.000000 %\n"
     ]
    }
   ],
   "source": [
    "from models.mega import MegaModel\n",
    "mega_model = MegaModel()\n",
    "train(mega_model, trainloader)\n",
    "test(mega_model, testloader)"
   ]
  },
  {
   "cell_type": "code",
   "execution_count": 10,
   "metadata": {
    "scrolled": true
   },
   "outputs": [
    {
     "name": "stdout",
     "output_type": "stream",
     "text": [
      "Start training!\n",
      "Epoch: 1 \t Training Loss:2.304087\n",
      "Epoch: 2 \t Training Loss:2.303763\n",
      "Epoch: 3 \t Training Loss:2.303498\n",
      "Epoch: 4 \t Training Loss:2.303696\n",
      "Epoch: 5 \t Training Loss:2.303595\n",
      "Epoch: 6 \t Training Loss:2.303629\n",
      "Epoch: 7 \t Training Loss:2.303755\n",
      "Epoch: 8 \t Training Loss:2.303429\n",
      "Epoch: 9 \t Training Loss:2.303849\n",
      "Epoch: 10 \t Training Loss:2.303478\n",
      "Finish training! time 564.14s\n",
      "\n",
      "Total Accuracy: 12 %\n",
      "Accuracy of plane : 15.909091 %\n",
      "Accuracy of   car : 6.250000 %\n",
      "Accuracy of  bird : 7.894737 %\n",
      "Accuracy of   cat : 18.604651 %\n",
      "Accuracy of  deer : 18.367347 %\n",
      "Accuracy of   dog : 9.375000 %\n",
      "Accuracy of  frog : 15.094340 %\n",
      "Accuracy of horse : 31.250000 %\n",
      "Accuracy of  ship : 0.000000 %\n",
      "Accuracy of truck : 3.448276 %\n"
     ]
    }
   ],
   "source": [
    "from models.mega_lle import Mega_LLE_Model\n",
    "mega_lle_model = Mega_LLE_Model()\n",
    "train(mega_lle_model, trainloader)\n",
    "test(mega_lle_model, testloader)"
   ]
  },
  {
   "cell_type": "code",
   "execution_count": null,
   "metadata": {},
   "outputs": [],
   "source": []
  }
 ],
 "metadata": {
  "kernelspec": {
   "display_name": "manifold_env1",
   "language": "python",
   "name": "manifold_env1"
  },
  "language_info": {
   "codemirror_mode": {
    "name": "ipython",
    "version": 3
   },
   "file_extension": ".py",
   "mimetype": "text/x-python",
   "name": "python",
   "nbconvert_exporter": "python",
   "pygments_lexer": "ipython3",
   "version": "3.5.5"
  }
 },
 "nbformat": 4,
 "nbformat_minor": 2
}
