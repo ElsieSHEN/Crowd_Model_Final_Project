{
 "cells": [
  {
   "cell_type": "code",
   "execution_count": 4,
   "metadata": {
    "tags": []
   },
   "outputs": [
    {
     "name": "stdout",
     "output_type": "stream",
     "text": [
      "The autoreload extension is already loaded. To reload it, use:\n",
      "  %reload_ext autoreload\n"
     ]
    }
   ],
   "source": [
    "import numpy as np\n",
    "\n",
    "import torch\n",
    "import torch.optim as optim\n",
    "from torch.utils.data import DataLoader\n",
    "\n",
    "from torchvision import datasets\n",
    "import torchvision.transforms as transforms\n",
    "\n",
    "from models.cnn import CNNModel\n",
    "from models.fc import FCModel\n",
    "from utils.train import train\n",
    "from utils.test import test\n",
    "\n",
    "import warnings\n",
    "warnings.filterwarnings('ignore')\n",
    "\n",
    "%load_ext autoreload\n",
    "%autoreload 2"
   ]
  },
  {
   "cell_type": "markdown",
   "metadata": {},
   "source": [
    "## Prepare Train and Test DataLoader"
   ]
  },
  {
   "cell_type": "code",
   "execution_count": 2,
   "metadata": {
    "tags": []
   },
   "outputs": [
    {
     "name": "stdout",
     "output_type": "stream",
     "text": [
      "Files already downloaded and verified\n",
      "Files already downloaded and verified\n"
     ]
    }
   ],
   "source": [
    "# Prepare train and test data\n",
    "batch_size = 6\n",
    "\n",
    "transform = transforms.Compose([\n",
    "    transforms.ToTensor(),\n",
    "    transforms.Normalize((0.485, 0.456, 0.406), (0.5, 0.5, 0.5))\n",
    "])\n",
    "\n",
    "trainset = datasets.CIFAR10(root='./data', train=True,\n",
    "                                        download=True, transform=transform)\n",
    "trainloader = DataLoader(trainset, batch_size=batch_size,\n",
    "                                          shuffle=True, num_workers=2)\n",
    "\n",
    "testset = datasets.CIFAR10(root='./data', train=False,\n",
    "                                       download=True, transform=transform)\n",
    "testloader = DataLoader(testset, batch_size=batch_size,\n",
    "                                         shuffle=False, num_workers=2)"
   ]
  },
  {
   "cell_type": "markdown",
   "metadata": {},
   "source": [
    "## FC Model (Baseline Model)"
   ]
  },
  {
   "cell_type": "code",
   "execution_count": 3,
   "metadata": {
    "tags": []
   },
   "outputs": [
    {
     "name": "stdout",
     "output_type": "stream",
     "text": [
      "Start training!\n",
      "Epoch: 1 \t Training Loss:1.675454\n",
      "Epoch: 2 \t Training Loss:1.511766\n",
      "Epoch: 3 \t Training Loss:1.437282\n",
      "Epoch: 4 \t Training Loss:1.386485\n",
      "Epoch: 5 \t Training Loss:1.337528\n",
      "Epoch: 6 \t Training Loss:1.301459\n",
      "Epoch: 7 \t Training Loss:1.262397\n",
      "Epoch: 8 \t Training Loss:1.229669\n",
      "Epoch: 9 \t Training Loss:1.204547\n",
      "Epoch: 10 \t Training Loss:1.171574\n",
      "Finish training! time 1412.99s)\n",
      "\n",
      "Total Accuracy: 50 %\n",
      "Accuracy of plane : 59.670165 %\n",
      "Accuracy of   car : 49.626308 %\n",
      "Accuracy of  bird : 29.923664 %\n",
      "Accuracy of   cat : 38.438881 %\n",
      "Accuracy of  deer : 34.319527 %\n",
      "Accuracy of   dog : 50.000000 %\n",
      "Accuracy of  frog : 54.449472 %\n",
      "Accuracy of horse : 54.294032 %\n",
      "Accuracy of  ship : 72.213740 %\n",
      "Accuracy of truck : 60.119940 %\n"
     ]
    }
   ],
   "source": [
    "fc_model = FCModel()\n",
    "train(fc_model, trainloader)\n",
    "test(fc_model, testloader)"
   ]
  },
  {
   "cell_type": "markdown",
   "metadata": {},
   "source": [
    "## CNN Model"
   ]
  },
  {
   "cell_type": "code",
   "execution_count": 4,
   "metadata": {
    "tags": []
   },
   "outputs": [
    {
     "name": "stdout",
     "output_type": "stream",
     "text": [
      "Start training!\n",
      "Epoch: 1 \t Training Loss:1.555540\n",
      "Epoch: 2 \t Training Loss:1.150476\n",
      "Epoch: 3 \t Training Loss:0.963673\n",
      "Epoch: 4 \t Training Loss:0.826738\n",
      "Epoch: 5 \t Training Loss:0.711585\n",
      "Epoch: 6 \t Training Loss:0.596769\n",
      "Epoch: 7 \t Training Loss:0.504849\n",
      "Epoch: 8 \t Training Loss:0.408348\n",
      "Epoch: 9 \t Training Loss:0.330228\n",
      "Epoch: 10 \t Training Loss:0.266316\n",
      "Finish training! time 2024.46s\n",
      "\n",
      "Total Accuracy: 69 %\n",
      "Accuracy of plane : 72.263868 %\n",
      "Accuracy of   car : 79.222720 %\n",
      "Accuracy of  bird : 61.679389 %\n",
      "Accuracy of   cat : 56.553756 %\n",
      "Accuracy of  deer : 64.644970 %\n",
      "Accuracy of   dog : 61.230769 %\n",
      "Accuracy of  frog : 76.470588 %\n",
      "Accuracy of horse : 73.071325 %\n",
      "Accuracy of  ship : 82.290076 %\n",
      "Accuracy of truck : 68.365817 %\n"
     ]
    }
   ],
   "source": [
    "cnn_model = CNNModel()\n",
    "train(cnn_model, trainloader)\n",
    "test(cnn_model, testloader)"
   ]
  },
  {
   "cell_type": "markdown",
   "metadata": {},
   "source": [
    "## PCA Model"
   ]
  },
  {
   "cell_type": "code",
   "execution_count": 19,
   "metadata": {
    "tags": []
   },
   "outputs": [
    {
     "name": "stdout",
     "output_type": "stream",
     "text": [
      "Start training!\n",
      "Epoch: 1 \t Training Loss:1.676027\n",
      "Epoch: 2 \t Training Loss:1.511344\n",
      "Epoch: 3 \t Training Loss:1.439080\n",
      "Epoch: 4 \t Training Loss:1.387886\n",
      "Epoch: 5 \t Training Loss:1.340939\n",
      "Epoch: 6 \t Training Loss:1.298595\n",
      "Epoch: 7 \t Training Loss:1.267317\n",
      "Epoch: 8 \t Training Loss:1.235492\n",
      "Epoch: 9 \t Training Loss:1.200018\n",
      "Epoch: 10 \t Training Loss:1.170469\n",
      "Finish training! time 1517.10s\n",
      "\n",
      "Total Accuracy: 49 %\n",
      "Accuracy of plane : 68.965517 %\n",
      "Accuracy of   car : 52.167414 %\n",
      "Accuracy of  bird : 39.389313 %\n",
      "Accuracy of   cat : 33.431517 %\n",
      "Accuracy of  deer : 46.153846 %\n",
      "Accuracy of   dog : 22.153846 %\n",
      "Accuracy of  frog : 59.276018 %\n",
      "Accuracy of horse : 53.711790 %\n",
      "Accuracy of  ship : 60.152672 %\n",
      "Accuracy of truck : 61.769115 %\n"
     ]
    }
   ],
   "source": [
    "from models.pca import PCAModel\n",
    "pca_model = PCAModel()\n",
    "train(pca_model, trainloader)\n",
    "test(pca_model, testloader)"
   ]
  },
  {
   "cell_type": "markdown",
   "metadata": {},
   "source": [
    "## Diffusion Maps"
   ]
  },
  {
   "cell_type": "code",
   "execution_count": 24,
   "metadata": {
    "tags": []
   },
   "outputs": [
    {
     "name": "stdout",
     "output_type": "stream",
     "text": [
      "Start training!\n",
      "Epoch: 1 \t Training Loss:1.675910\n",
      "Epoch: 2 \t Training Loss:1.513241\n",
      "Epoch: 3 \t Training Loss:1.438436\n",
      "Epoch: 4 \t Training Loss:1.383612\n",
      "Epoch: 5 \t Training Loss:1.341492\n",
      "Epoch: 6 \t Training Loss:1.300955\n",
      "Epoch: 7 \t Training Loss:1.261751\n",
      "Epoch: 8 \t Training Loss:1.230728\n",
      "Epoch: 9 \t Training Loss:1.200201\n",
      "Epoch: 10 \t Training Loss:1.168746\n",
      "Finish training! time 3794.74s\n",
      "\n",
      "Total Accuracy: 49 %\n",
      "Accuracy of plane : 43.628186 %\n",
      "Accuracy of   car : 63.527653 %\n",
      "Accuracy of  bird : 33.282443 %\n",
      "Accuracy of   cat : 31.811487 %\n",
      "Accuracy of  deer : 42.159763 %\n",
      "Accuracy of   dog : 32.615385 %\n",
      "Accuracy of  frog : 62.141780 %\n",
      "Accuracy of horse : 60.407569 %\n",
      "Accuracy of  ship : 66.564885 %\n",
      "Accuracy of truck : 59.670165 %\n"
     ]
    }
   ],
   "source": [
    "from models.dmap import DMap\n",
    "dmap_model = DMap()\n",
    "train(dmap_model, trainloader)\n",
    "test(dmap_model, testloader)"
   ]
  },
  {
   "cell_type": "code",
   "execution_count": 5,
   "metadata": {},
   "outputs": [
    {
     "name": "stdout",
     "output_type": "stream",
     "text": [
      "Start training!\n",
      "Epoch: 1 \t Training Loss:1.676370\n",
      "Epoch: 2 \t Training Loss:1.514674\n",
      "Epoch: 3 \t Training Loss:1.439905\n",
      "Epoch: 4 \t Training Loss:1.387463\n",
      "Epoch: 5 \t Training Loss:1.337992\n",
      "Epoch: 6 \t Training Loss:1.305594\n",
      "Epoch: 7 \t Training Loss:1.268166\n",
      "Epoch: 8 \t Training Loss:1.234706\n",
      "Epoch: 9 \t Training Loss:1.206031\n",
      "Epoch: 10 \t Training Loss:1.176202\n",
      "Finish training! time 2628.82s\n",
      "\n",
      "Total Accuracy: 50 %\n",
      "Accuracy of plane : 65.967016 %\n",
      "Accuracy of   car : 59.491779 %\n",
      "Accuracy of  bird : 38.778626 %\n",
      "Accuracy of   cat : 33.873343 %\n",
      "Accuracy of  deer : 43.639053 %\n",
      "Accuracy of   dog : 33.692308 %\n",
      "Accuracy of  frog : 47.058824 %\n",
      "Accuracy of horse : 65.647744 %\n",
      "Accuracy of  ship : 61.221374 %\n",
      "Accuracy of truck : 55.322339 %\n"
     ]
    }
   ],
   "source": [
    "from models.mega import MegaModel\n",
    "mega_model = MegaModel()\n",
    "train(mega_model, trainloader)\n",
    "test(mega_model, testloader)"
   ]
  },
  {
   "cell_type": "code",
   "execution_count": null,
   "metadata": {},
   "outputs": [],
   "source": []
  }
 ],
 "metadata": {
  "kernelspec": {
   "display_name": "manifold_env1",
   "language": "python",
   "name": "manifold_env1"
  },
  "language_info": {
   "codemirror_mode": {
    "name": "ipython",
    "version": 3
   },
   "file_extension": ".py",
   "mimetype": "text/x-python",
   "name": "python",
   "nbconvert_exporter": "python",
   "pygments_lexer": "ipython3",
   "version": "3.5.5"
  }
 },
 "nbformat": 4,
 "nbformat_minor": 2
}
