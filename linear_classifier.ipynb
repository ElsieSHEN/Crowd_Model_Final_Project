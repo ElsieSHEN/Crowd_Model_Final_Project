{
 "cells": [
  {
   "cell_type": "code",
   "execution_count": 1,
   "metadata": {
    "tags": []
   },
   "outputs": [],
   "source": [
    "import numpy as np\n",
    "\n",
    "import torch\n",
    "import torch.optim as optim\n",
    "from torch.utils.data import DataLoader\n",
    "\n",
    "from torchvision import datasets\n",
    "import torchvision.transforms as transforms\n",
    "\n",
    "from models.cnn import CNNModel\n",
    "from models.fc import FCModel\n",
    "from utils.train import train\n",
    "from utils.test import test\n",
    "\n",
    "%load_ext autoreload\n",
    "%autoreload 2"
   ]
  },
  {
   "cell_type": "markdown",
   "metadata": {},
   "source": [
    "## Prepare Train and Test DataLoader"
   ]
  },
  {
   "cell_type": "code",
   "execution_count": 2,
   "metadata": {
    "tags": []
   },
   "outputs": [
    {
     "output_type": "stream",
     "name": "stdout",
     "text": "Files already downloaded and verified\nFiles already downloaded and verified\n"
    }
   ],
   "source": [
    "# Prepare train and test data\n",
    "batch_size = 6\n",
    "\n",
    "transform = transforms.Compose([\n",
    "    transforms.ToTensor(),\n",
    "    transforms.Normalize((0.485, 0.456, 0.406), (0.5, 0.5, 0.5))\n",
    "])\n",
    "\n",
    "trainset = datasets.CIFAR10(root='./data', train=True,\n",
    "                                        download=True, transform=transform)\n",
    "trainloader = DataLoader(trainset, batch_size=batch_size,\n",
    "                                          shuffle=True, num_workers=2)\n",
    "\n",
    "testset = datasets.CIFAR10(root='./data', train=False,\n",
    "                                       download=True, transform=transform)\n",
    "testloader = DataLoader(testset, batch_size=batch_size,\n",
    "                                         shuffle=False, num_workers=2)"
   ]
  },
  {
   "cell_type": "markdown",
   "metadata": {},
   "source": [
    "## FC Model (Baseline Model)"
   ]
  },
  {
   "cell_type": "code",
   "execution_count": 3,
   "metadata": {
    "tags": []
   },
   "outputs": [
    {
     "output_type": "stream",
     "name": "stdout",
     "text": "Start training!\nEpoch: 1 \t Training Loss:1.675454\nEpoch: 2 \t Training Loss:1.511766\nEpoch: 3 \t Training Loss:1.437282\nEpoch: 4 \t Training Loss:1.386485\nEpoch: 5 \t Training Loss:1.337528\nEpoch: 6 \t Training Loss:1.301459\nEpoch: 7 \t Training Loss:1.262397\nEpoch: 8 \t Training Loss:1.229669\nEpoch: 9 \t Training Loss:1.204547\nEpoch: 10 \t Training Loss:1.171574\nFinish training! time 1412.99s)\n\nTotal Accuracy: 50 %\nAccuracy of plane : 59.670165 %\nAccuracy of   car : 49.626308 %\nAccuracy of  bird : 29.923664 %\nAccuracy of   cat : 38.438881 %\nAccuracy of  deer : 34.319527 %\nAccuracy of   dog : 50.000000 %\nAccuracy of  frog : 54.449472 %\nAccuracy of horse : 54.294032 %\nAccuracy of  ship : 72.213740 %\nAccuracy of truck : 60.119940 %\n"
    }
   ],
   "source": [
    "fc_model = FCModel()\n",
    "train(fc_model, trainloader)\n",
    "test(fc_model, testloader)"
   ]
  },
  {
   "cell_type": "markdown",
   "metadata": {},
   "source": [
    "## CNN Model"
   ]
  },
  {
   "cell_type": "code",
   "execution_count": 4,
   "metadata": {
    "tags": []
   },
   "outputs": [
    {
     "output_type": "stream",
     "name": "stdout",
     "text": "Start training!\nEpoch: 1 \t Training Loss:1.664301\nEpoch: 2 \t Training Loss:1.328126\nEpoch: 3 \t Training Loss:1.183000\nEpoch: 4 \t Training Loss:1.087072\nEpoch: 5 \t Training Loss:1.021465\nEpoch: 6 \t Training Loss:0.966789\nEpoch: 7 \t Training Loss:0.920685\nEpoch: 8 \t Training Loss:0.884151\nEpoch: 9 \t Training Loss:0.849118\nEpoch: 10 \t Training Loss:0.822001\nFinish training! time 853.48s\n\nTotal Accuracy: 65 %\nAccuracy of plane : 61.019490 %\nAccuracy of   car : 77.727952 %\nAccuracy of  bird : 54.351145 %\nAccuracy of   cat : 58.173785 %\nAccuracy of  deer : 53.402367 %\nAccuracy of   dog : 58.000000 %\nAccuracy of  frog : 69.834087 %\nAccuracy of horse : 70.160116 %\nAccuracy of  ship : 79.541985 %\nAccuracy of truck : 73.163418 %\n"
    }
   ],
   "source": [
    "cnn_model = CNNModel()\n",
    "train(cnn_model, trainloader)\n",
    "test(cnn_model, testloader)"
   ]
  },
  {
   "cell_type": "markdown",
   "metadata": {},
   "source": [
    "## PCA Model"
   ]
  },
  {
   "cell_type": "code",
   "execution_count": 19,
   "metadata": {
    "tags": []
   },
   "outputs": [
    {
     "output_type": "stream",
     "name": "stdout",
     "text": "Start training!\nEpoch: 1 \t Training Loss:1.676027\nEpoch: 2 \t Training Loss:1.511344\nEpoch: 3 \t Training Loss:1.439080\nEpoch: 4 \t Training Loss:1.387886\nEpoch: 5 \t Training Loss:1.340939\nEpoch: 6 \t Training Loss:1.298595\nEpoch: 7 \t Training Loss:1.267317\nEpoch: 8 \t Training Loss:1.235492\nEpoch: 9 \t Training Loss:1.200018\nEpoch: 10 \t Training Loss:1.170469\nFinish training! time 1517.10s\n\nTotal Accuracy: 49 %\nAccuracy of plane : 68.965517 %\nAccuracy of   car : 52.167414 %\nAccuracy of  bird : 39.389313 %\nAccuracy of   cat : 33.431517 %\nAccuracy of  deer : 46.153846 %\nAccuracy of   dog : 22.153846 %\nAccuracy of  frog : 59.276018 %\nAccuracy of horse : 53.711790 %\nAccuracy of  ship : 60.152672 %\nAccuracy of truck : 61.769115 %\n"
    }
   ],
   "source": [
    "from models.pca import PCAModel\n",
    "pca_model = PCAModel()\n",
    "train(pca_model, trainloader)\n",
    "test(pca_model, testloader)"
   ]
  },
  {
   "cell_type": "markdown",
   "metadata": {},
   "source": [
    "## Diffusion Maps"
   ]
  },
  {
   "cell_type": "code",
   "execution_count": 24,
   "metadata": {
    "tags": []
   },
   "outputs": [
    {
     "output_type": "stream",
     "name": "stdout",
     "text": "Start training!\nEpoch: 1 \t Training Loss:1.675910\nEpoch: 2 \t Training Loss:1.513241\nEpoch: 3 \t Training Loss:1.438436\nEpoch: 4 \t Training Loss:1.383612\nEpoch: 5 \t Training Loss:1.341492\nEpoch: 6 \t Training Loss:1.300955\nEpoch: 7 \t Training Loss:1.261751\nEpoch: 8 \t Training Loss:1.230728\nEpoch: 9 \t Training Loss:1.200201\nEpoch: 10 \t Training Loss:1.168746\nFinish training! time 3794.74s\n\nTotal Accuracy: 49 %\nAccuracy of plane : 43.628186 %\nAccuracy of   car : 63.527653 %\nAccuracy of  bird : 33.282443 %\nAccuracy of   cat : 31.811487 %\nAccuracy of  deer : 42.159763 %\nAccuracy of   dog : 32.615385 %\nAccuracy of  frog : 62.141780 %\nAccuracy of horse : 60.407569 %\nAccuracy of  ship : 66.564885 %\nAccuracy of truck : 59.670165 %\n"
    }
   ],
   "source": [
    "from models.dmap import DMap\n",
    "dmap_model = DMap()\n",
    "train(dmap_model, trainloader)\n",
    "test(dmap_model, testloader)"
   ]
  },
  {
   "cell_type": "code",
   "execution_count": null,
   "metadata": {},
   "outputs": [],
   "source": []
  }
 ],
 "metadata": {
  "kernelspec": {
   "display_name": "Python 3",
   "language": "python",
   "name": "python3"
  },
  "language_info": {
   "codemirror_mode": {
    "name": "ipython",
    "version": 3
   },
   "file_extension": ".py",
   "mimetype": "text/x-python",
   "name": "python",
   "nbconvert_exporter": "python",
   "pygments_lexer": "ipython3",
   "version": "3.6.10"
  }
 },
 "nbformat": 4,
 "nbformat_minor": 2
}